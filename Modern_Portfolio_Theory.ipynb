{
 "cells": [
  {
   "cell_type": "code",
   "execution_count": 1,
   "id": "3425c39d",
   "metadata": {},
   "outputs": [
    {
     "name": "stdout",
     "output_type": "stream",
     "text": [
      "/usr/local/bin/python3\n"
     ]
    }
   ],
   "source": [
    "import sys\n",
    "print(sys.executable)"
   ]
  },
  {
   "cell_type": "code",
   "execution_count": 2,
   "id": "6a3f5730",
   "metadata": {},
   "outputs": [
    {
     "name": "stdout",
     "output_type": "stream",
     "text": [
      "zsh:1: command not found: pip\n"
     ]
    }
   ],
   "source": [
    "!pip install pyportfolioopt"
   ]
  },
  {
   "cell_type": "code",
   "execution_count": 3,
   "id": "6d69fe8e",
   "metadata": {},
   "outputs": [],
   "source": [
    "import yfinance as yf\n",
    "import pandas as pd\n",
    "import numpy as np\n",
    "import datetime as dt\n",
    "import matplotlib.pyplot as plt\n",
    "\n",
    "from pypfopt import EfficientFrontier, risk_models, expected_returns\n"
   ]
  },
  {
   "cell_type": "code",
   "execution_count": 4,
   "id": "d783e208",
   "metadata": {},
   "outputs": [
    {
     "data": {
      "text/plain": [
       "(datetime.datetime(2025, 7, 11, 23, 0, 57, 164069),\n",
       " datetime.datetime(2020, 7, 12, 23, 0, 57, 164069))"
      ]
     },
     "execution_count": 4,
     "metadata": {},
     "output_type": "execute_result"
    }
   ],
   "source": [
    "end_date = dt.datetime.now()\n",
    "start_date = end_date - dt.timedelta(days = 365*5)\n",
    "\n",
    "end_date, start_date"
   ]
  },
  {
   "cell_type": "markdown",
   "id": "0d582b10",
   "metadata": {},
   "source": [
    "Lisk of Australian stocks from different industries."
   ]
  },
  {
   "cell_type": "code",
   "execution_count": 5,
   "id": "34ea4d87",
   "metadata": {},
   "outputs": [
    {
     "name": "stderr",
     "output_type": "stream",
     "text": [
      "/var/folders/kl/gftjsptj1fbfv3_9mcpxhp4r0000gn/T/ipykernel_30402/31196772.py:4: FutureWarning: YF.download() has changed argument auto_adjust default to True\n",
      "  data = yf.download(stocks, start = start_date, end = end_date)['Close']\n",
      "[*********************100%***********************]  5 of 5 completed\n",
      "/var/folders/kl/gftjsptj1fbfv3_9mcpxhp4r0000gn/T/ipykernel_30402/31196772.py:5: FutureWarning: YF.download() has changed argument auto_adjust default to True\n",
      "  benchmark_data = yf.download(benchmark, start = start_date, end = end_date)['Close']\n",
      "[*********************100%***********************]  1 of 1 completed\n"
     ]
    },
    {
     "data": {
      "text/html": [
       "<div>\n",
       "<style scoped>\n",
       "    .dataframe tbody tr th:only-of-type {\n",
       "        vertical-align: middle;\n",
       "    }\n",
       "\n",
       "    .dataframe tbody tr th {\n",
       "        vertical-align: top;\n",
       "    }\n",
       "\n",
       "    .dataframe thead th {\n",
       "        text-align: right;\n",
       "    }\n",
       "</style>\n",
       "<table border=\"1\" class=\"dataframe\">\n",
       "  <thead>\n",
       "    <tr style=\"text-align: right;\">\n",
       "      <th>Ticker</th>\n",
       "      <th>BHP.AX</th>\n",
       "      <th>CBA.AX</th>\n",
       "      <th>CSL.AX</th>\n",
       "      <th>MQG.AX</th>\n",
       "      <th>WES.AX</th>\n",
       "    </tr>\n",
       "    <tr>\n",
       "      <th>Date</th>\n",
       "      <th></th>\n",
       "      <th></th>\n",
       "      <th></th>\n",
       "      <th></th>\n",
       "      <th></th>\n",
       "    </tr>\n",
       "  </thead>\n",
       "  <tbody>\n",
       "    <tr>\n",
       "      <th>2020-07-13</th>\n",
       "      <td>22.808937</td>\n",
       "      <td>59.953793</td>\n",
       "      <td>266.576935</td>\n",
       "      <td>102.742310</td>\n",
       "      <td>39.729961</td>\n",
       "    </tr>\n",
       "    <tr>\n",
       "      <th>2020-07-14</th>\n",
       "      <td>22.876804</td>\n",
       "      <td>59.629593</td>\n",
       "      <td>264.180450</td>\n",
       "      <td>102.195572</td>\n",
       "      <td>39.669571</td>\n",
       "    </tr>\n",
       "    <tr>\n",
       "      <th>2020-07-15</th>\n",
       "      <td>23.444405</td>\n",
       "      <td>60.460896</td>\n",
       "      <td>272.165527</td>\n",
       "      <td>104.138557</td>\n",
       "      <td>40.428802</td>\n",
       "    </tr>\n",
       "    <tr>\n",
       "      <th>2020-07-16</th>\n",
       "      <td>23.296335</td>\n",
       "      <td>60.386074</td>\n",
       "      <td>266.510590</td>\n",
       "      <td>104.920792</td>\n",
       "      <td>40.204475</td>\n",
       "    </tr>\n",
       "    <tr>\n",
       "      <th>2020-07-17</th>\n",
       "      <td>23.395046</td>\n",
       "      <td>60.352821</td>\n",
       "      <td>268.461945</td>\n",
       "      <td>105.290894</td>\n",
       "      <td>40.144081</td>\n",
       "    </tr>\n",
       "  </tbody>\n",
       "</table>\n",
       "</div>"
      ],
      "text/plain": [
       "Ticker         BHP.AX     CBA.AX      CSL.AX      MQG.AX     WES.AX\n",
       "Date                                                               \n",
       "2020-07-13  22.808937  59.953793  266.576935  102.742310  39.729961\n",
       "2020-07-14  22.876804  59.629593  264.180450  102.195572  39.669571\n",
       "2020-07-15  23.444405  60.460896  272.165527  104.138557  40.428802\n",
       "2020-07-16  23.296335  60.386074  266.510590  104.920792  40.204475\n",
       "2020-07-17  23.395046  60.352821  268.461945  105.290894  40.144081"
      ]
     },
     "execution_count": 5,
     "metadata": {},
     "output_type": "execute_result"
    }
   ],
   "source": [
    "\n",
    "stocks = ['CBA.AX', 'BHP.AX', 'CSL.AX', 'WES.AX', 'MQG.AX']\n",
    "benchmark = ['^AXJO']\n",
    "\n",
    "data = yf.download(stocks, start = start_date, end = end_date)['Close']\n",
    "benchmark_data = yf.download(benchmark, start = start_date, end = end_date)['Close']\n",
    "\n",
    "data.head()\n"
   ]
  },
  {
   "cell_type": "code",
   "execution_count": 6,
   "id": "feb4a5df",
   "metadata": {},
   "outputs": [
    {
     "data": {
      "text/html": [
       "<div>\n",
       "<style scoped>\n",
       "    .dataframe tbody tr th:only-of-type {\n",
       "        vertical-align: middle;\n",
       "    }\n",
       "\n",
       "    .dataframe tbody tr th {\n",
       "        vertical-align: top;\n",
       "    }\n",
       "\n",
       "    .dataframe thead th {\n",
       "        text-align: right;\n",
       "    }\n",
       "</style>\n",
       "<table border=\"1\" class=\"dataframe\">\n",
       "  <thead>\n",
       "    <tr style=\"text-align: right;\">\n",
       "      <th>Ticker</th>\n",
       "      <th>^AXJO</th>\n",
       "    </tr>\n",
       "    <tr>\n",
       "      <th>Date</th>\n",
       "      <th></th>\n",
       "    </tr>\n",
       "  </thead>\n",
       "  <tbody>\n",
       "    <tr>\n",
       "      <th>2020-07-13</th>\n",
       "      <td>5977.500000</td>\n",
       "    </tr>\n",
       "    <tr>\n",
       "      <th>2020-07-14</th>\n",
       "      <td>5941.100098</td>\n",
       "    </tr>\n",
       "    <tr>\n",
       "      <th>2020-07-15</th>\n",
       "      <td>6052.899902</td>\n",
       "    </tr>\n",
       "    <tr>\n",
       "      <th>2020-07-16</th>\n",
       "      <td>6010.899902</td>\n",
       "    </tr>\n",
       "    <tr>\n",
       "      <th>2020-07-17</th>\n",
       "      <td>6033.600098</td>\n",
       "    </tr>\n",
       "  </tbody>\n",
       "</table>\n",
       "</div>"
      ],
      "text/plain": [
       "Ticker            ^AXJO\n",
       "Date                   \n",
       "2020-07-13  5977.500000\n",
       "2020-07-14  5941.100098\n",
       "2020-07-15  6052.899902\n",
       "2020-07-16  6010.899902\n",
       "2020-07-17  6033.600098"
      ]
     },
     "execution_count": 6,
     "metadata": {},
     "output_type": "execute_result"
    }
   ],
   "source": [
    "benchmark_data.head()"
   ]
  },
  {
   "cell_type": "code",
   "execution_count": 7,
   "id": "e19d0d4a",
   "metadata": {},
   "outputs": [
    {
     "name": "stderr",
     "output_type": "stream",
     "text": [
      "/Library/Frameworks/Python.framework/Versions/3.13/lib/python3.13/site-packages/numpy/_core/_methods.py:55: RuntimeWarning: overflow encountered in reduce\n",
      "  return umr_prod(a, axis, dtype, out, keepdims, initial, where)\n"
     ]
    }
   ],
   "source": [
    "# CALCULATING EXPECTED RETURN AND COVARIANCE MATRIX\n",
    "\n",
    "mu = expected_returns.mean_historical_return(data, returns_data=True, frequency=252)\n",
    "\n",
    "sigma = risk_models.sample_cov(data, returns_data=True, frequency=252)"
   ]
  },
  {
   "cell_type": "code",
   "execution_count": 8,
   "id": "9422d7e5",
   "metadata": {},
   "outputs": [],
   "source": [
    "# Benchmark Returns\n",
    "\n",
    "benchmark_returns = benchmark_data.pct_change().dropna()\n",
    "\n",
    "\n",
    "\n",
    "# CALCULATING RETURN, Assume capitals are equally allocated\n",
    "\n",
    "returns = data.pct_change().dropna()\n",
    "\n",
    "portfolio_weights = np.array([0.2, 0.2, 0.2, 0.2, 0.2])  # Assuming equal weights\n",
    "\n",
    "portfolio_returns = (returns * portfolio_weights).sum(axis=1)\n"
   ]
  },
  {
   "cell_type": "code",
   "execution_count": 9,
   "id": "de5a219d",
   "metadata": {},
   "outputs": [
    {
     "name": "stdout",
     "output_type": "stream",
     "text": [
      "Portfolio Returns:\n",
      "Ticker        BHP.AX    CBA.AX    CSL.AX    MQG.AX    WES.AX\n",
      "Date                                                        \n",
      "2020-07-14  0.002975 -0.005407 -0.008990 -0.005321 -0.001520\n",
      "2020-07-15  0.024811  0.013941  0.030226  0.019012  0.019139\n",
      "2020-07-16 -0.006316 -0.001238 -0.020778  0.007511 -0.005549\n",
      "2020-07-17  0.004237 -0.000551  0.007322  0.003527 -0.001502\n",
      "2020-07-20  0.012131 -0.008402 -0.002541 -0.006391 -0.007092\n",
      "Benchmark Returns:\n",
      "Ticker         ^AXJO\n",
      "Date                \n",
      "2020-07-14 -0.006089\n",
      "2020-07-15  0.018818\n",
      "2020-07-16 -0.006939\n",
      "2020-07-17  0.003777\n",
      "2020-07-20 -0.005304\n"
     ]
    }
   ],
   "source": [
    "print(\"Portfolio Returns:\")\n",
    "print(returns.head())\n",
    "      \n",
    "print(\"Benchmark Returns:\")\n",
    "print(benchmark_returns.head())"
   ]
  },
  {
   "cell_type": "code",
   "execution_count": 10,
   "id": "76a11d11",
   "metadata": {},
   "outputs": [],
   "source": [
    "\n",
    "# Risk and performance metrics\n",
    "\n",
    "annualized_return = ((1 + portfolio_returns.mean()) ** 252 - 1) * 100\n",
    "volatility = portfolio_returns.std() * np.sqrt(252) * 100\n",
    "sharpe_ratio = annualized_return / volatility\n",
    "\n"
   ]
  },
  {
   "cell_type": "code",
   "execution_count": 11,
   "id": "7f6e1268",
   "metadata": {},
   "outputs": [],
   "source": [
    "# Optimization\n",
    "mu = expected_returns.mean_historical_return(data)\n",
    "S = risk_models.sample_cov(data)\n",
    "ef = EfficientFrontier(mu, S)\n",
    "weights = ef.max_sharpe()  # Optimize for maximum Sharpe ratio\n",
    "cleaned_weights = ef.clean_weights()\n",
    "\n"
   ]
  },
  {
   "cell_type": "code",
   "execution_count": 12,
   "id": "f294862b",
   "metadata": {},
   "outputs": [
    {
     "name": "stdout",
     "output_type": "stream",
     "text": [
      "Annualized Return: 15.64%\n",
      "Volatility: 14.77%\n",
      "Sharpe Ratio: 1.06\n",
      "Optimal Weights: OrderedDict({'BHP.AX': 0.07462, 'CBA.AX': 0.74582, 'CSL.AX': 0.0, 'MQG.AX': 0.02787, 'WES.AX': 0.1517})\n"
     ]
    }
   ],
   "source": [
    "# Print results\n",
    "print(f\"Annualized Return: {annualized_return:.2f}%\")\n",
    "print(f\"Volatility: {volatility:.2f}%\")\n",
    "print(f\"Sharpe Ratio: {sharpe_ratio:.2f}\")\n",
    "print(\"Optimal Weights:\", cleaned_weights)"
   ]
  },
  {
   "cell_type": "code",
   "execution_count": 13,
   "id": "431d1668",
   "metadata": {},
   "outputs": [
    {
     "name": "stdout",
     "output_type": "stream",
     "text": [
      "Index(['BHP.AX', 'CBA.AX', 'CSL.AX', 'MQG.AX', 'WES.AX'], dtype='object', name='Ticker')\n"
     ]
    }
   ],
   "source": [
    "print(returns.columns)"
   ]
  },
  {
   "cell_type": "code",
   "execution_count": 14,
   "id": "5004b83b",
   "metadata": {},
   "outputs": [],
   "source": [
    "# benchmark cumulative return\n",
    "\n",
    "benchmark_cumulative_returns = (1+benchmark_returns).cumprod()\n",
    "\n",
    "# Using the optimum weights\n",
    "\n",
    "optimal_portfolio_weight = np.array([0.0438, 0.7603, 0.0, 0.0484, 0.14751])\n",
    "optimal_portfolio_returns = (returns * optimal_portfolio_weight).sum(axis=1)\n",
    "optimal_cumulative_returns = (1+optimal_portfolio_returns).cumprod()\n"
   ]
  },
  {
   "cell_type": "code",
   "execution_count": 15,
   "id": "fc58bfc1",
   "metadata": {},
   "outputs": [
    {
     "data": {
      "image/png": "[encoded data removed]",
      "text/plain": [
       "<Figure size 640x480 with 1 Axes>"
      ]
     },
     "metadata": {},
     "output_type": "display_data"
    }
   ],
   "source": [
    "# Displaying the performance graph\n",
    "\n",
    "plt.plot(optimal_cumulative_returns,  label =\"Portfolio\")\n",
    "plt.plot(benchmark_cumulative_returns, label =\"Benchmark\")\n",
    "\n",
    "plt.title(\"Portfolio Vs Benchmark Performance\")\n",
    "plt.xlabel(\"Date\")\n",
    "plt.ylabel(\"Cumulative Returns\")\n",
    "plt.legend()\n",
    "\n",
    "plt.show()"
   ]
  },
  {
   "cell_type": "code",
   "execution_count": 16,
   "id": "e26a0fc7",
   "metadata": {},
   "outputs": [
    {
     "name": "stdout",
     "output_type": "stream",
     "text": [
      "Final Portfolio Value: 2.794479485965914\n",
      "Final Benchmark Value: [1.43539935]\n"
     ]
    }
   ],
   "source": [
    "print(\"Final Portfolio Value:\", optimal_cumulative_returns.tail(1).values[0])\n",
    "print(\"Final Benchmark Value:\", benchmark_cumulative_returns.tail(1).values[0])\n"
   ]
  }
 ],
 "metadata": {
  "kernelspec": {
   "display_name": "Python 3",
   "language": "python",
   "name": "python3"
  },
  "language_info": {
   "codemirror_mode": {
    "name": "ipython",
    "version": 3
   },
   "file_extension": ".py",
   "mimetype": "text/x-python",
   "name": "python",
   "nbconvert_exporter": "python",
   "pygments_lexer": "ipython3",
   "version": "3.13.5"
  }
 },
 "nbformat": 4,
 "nbformat_minor": 5
}
